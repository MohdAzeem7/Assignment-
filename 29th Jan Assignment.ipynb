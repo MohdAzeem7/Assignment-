{
 "cells": [
  {
   "cell_type": "code",
   "execution_count": null,
   "id": "89ee3133-3c5b-4eee-8ec1-08cf100d2482",
   "metadata": {},
   "outputs": [],
   "source": [
    "'''\n",
    "(1)-Who developed Python Programming Language?\n",
    "    Guido van Rossum.\n",
    "   \n",
    "(2)-Which type of Programming does Python support?\n",
    "    Object-oriented programming and structured programming are fully supported.\n",
    "    \n",
    "(3)-ls Python case sensitive when dealing with identifiers?\n",
    "    Yes, Python is a case-sensitive language.\n",
    "    \n",
    "(4)-What is the correct extension of the Python file?\n",
    "    .py is the correct extension of the Python file.\n",
    "    \n",
    "(5)-ls Python code compiled or interpreted?\n",
    "    Interpreted.\n",
    "    \n",
    "(6)-Name a few blocks of code used to define in Python language?\n",
    "    Function and class.\n",
    "    \n",
    "(7)-State a character used to give single-line comments in Python?\n",
    "    #\n",
    "    \n",
    "(8)-Mention functions which can help us to find the version of python that we are currently working on?\n",
    "    Sys.version\n",
    "    \n",
    "(9)-Python supports the creation of anonymous functions at runtime, using a construct called?\n",
    "    Lamnbda.\n",
    "\n",
    "(10)-What does pip stand for python?\n",
    "     Preferred installer program.\n",
    "\n",
    "(11)-Mention a few built-in functions in python?\n",
    "     Abs,all(),bin(),bool(),bytes() function.\n",
    "\n",
    "(12)-What is the maximum possible length of on identifier in Python?\n",
    "     79 characters.\n",
    "\n",
    "(13)What are the benefits of using Python?\n",
    "    Python is easy to learn because of its easy syntax.\n",
    "\n",
    "\n",
    "(14)-How is memory managed in Python?\n",
    "    non-object memory management.\n",
    "\n",
    "(15)-How to install Python on Windows and set path variables?\n",
    "    first we need to download python then install it and then we need to set path variables.\n",
    "\n",
    "(16)-Is indentation required in python?\n",
    "    yes indentation is very important in python.\n",
    "'''\n",
    "\n",
    "\n",
    "\n",
    "    "
   ]
  }
 ],
 "metadata": {
  "kernelspec": {
   "display_name": "Python 3 (ipykernel)",
   "language": "python",
   "name": "python3"
  },
  "language_info": {
   "codemirror_mode": {
    "name": "ipython",
    "version": 3
   },
   "file_extension": ".py",
   "mimetype": "text/x-python",
   "name": "python",
   "nbconvert_exporter": "python",
   "pygments_lexer": "ipython3",
   "version": "3.10.8"
  }
 },
 "nbformat": 4,
 "nbformat_minor": 5
}
